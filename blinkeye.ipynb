{
 "cells": [
  {
   "cell_type": "markdown",
   "metadata": {},
   "source": [
    "# Blink Eye detection + Run Python programs"
   ]
  },
  {
   "cell_type": "markdown",
   "metadata": {},
   "source": [
    "This project was created just for fun during a chat with some of the other interns in the Microsoft Group. One of them suggested an idea **Imagine blinking to compile**.\n",
    "\n",
    "This sparked my interest and after doing some research I finally created this file which does the same exact thing except its a **double blink to run**."
   ]
  },
  {
   "cell_type": "markdown",
   "metadata": {},
   "source": [
    "Reference : <https://github.com/infoaryan/Eye-blink-detection-game>"
   ]
  },
  {
   "cell_type": "code",
   "execution_count": 34,
   "metadata": {},
   "outputs": [],
   "source": [
    "# Import the required modules\n",
    "import pyttsx3 # text to speech\n",
    "import pyautogui # keyboard control\n",
    "import winsound # sound\n",
    "import numpy as np\n",
    "import cv2"
   ]
  },
  {
   "cell_type": "code",
   "execution_count": 28,
   "metadata": {},
   "outputs": [],
   "source": [
    "def run_pgm(runfile):\n",
    "  \"\"\"\n",
    "  This function executes another python file from a python file.\n",
    "  \n",
    "  Params: runfile\n",
    "  \n",
    "  Return : None\n",
    "  \n",
    "  \"\"\"\n",
    "  with open(runfile,\"r\") as cmp:\n",
    "    exec(cmp.read())"
   ]
  },
  {
   "cell_type": "code",
   "execution_count": 29,
   "metadata": {},
   "outputs": [],
   "source": [
    "duration_n = 1000   # Set Duration To 1 second\n",
    "frequency_n = 1000  # Set Frequency To 1000 Hertz"
   ]
  },
  {
   "cell_type": "code",
   "execution_count": 31,
   "metadata": {},
   "outputs": [],
   "source": [
    "engine = pyttsx3.init() # initalize the engine"
   ]
  },
  {
   "cell_type": "code",
   "execution_count": 41,
   "metadata": {},
   "outputs": [
    {
     "name": "stdout",
     "output_type": "stream",
     "text": [
      "Please enter the file name : hello.py\n"
     ]
    }
   ],
   "source": [
    "# enter the python file names seperated by a space\n",
    "file = input(\"Please enter the file name : \").split()\n",
    "pyautogui.press('down') # automatically goes to the next cell\n",
    "pyautogui.hotkey('ctrl', 'enter') # executes the following cell"
   ]
  },
  {
   "cell_type": "code",
   "execution_count": 45,
   "metadata": {},
   "outputs": [
    {
     "name": "stdout",
     "output_type": "stream",
     "text": [
      "Blink detected\n",
      "Blink detected\n",
      "Running the Program\n",
      "hello\n"
     ]
    }
   ],
   "source": [
    "#Initializing the face and eye cascade classifiers from xml files\n",
    "face_cascade = cv2.CascadeClassifier('haarcascade_frontalface_default.xml')\n",
    "eye_cascade = cv2.CascadeClassifier('haarcascade_eye_tree_eyeglasses.xml')\n",
    "\n",
    "#Variable store execution state\n",
    "first_read = True\n",
    "\n",
    "#Starting the video capture\n",
    "cap = cv2.VideoCapture(0)\n",
    "ret,img = cap.read()\n",
    "check = False\n",
    "count = 0\n",
    "k = False\n",
    "engine.say(\"Press q to stop the program from running by clicking on the video frame and then pressing q else just continue\")\n",
    "engine.runAndWait()\n",
    "\n",
    "\n",
    "while ret and not check:\n",
    "    ret,img = cap.read()\n",
    "    #Coverting the recorded image to grayscale\n",
    "    gray = cv2.cvtColor(img,cv2.COLOR_BGR2GRAY)\n",
    "    #Applying filter to remove impurities\n",
    "    gray = cv2.bilateralFilter(gray,5,1,1)\n",
    "\n",
    "    #Detecting the face for region of image to be fed to eye classifier\n",
    "    faces = face_cascade.detectMultiScale(gray, 1.3, 5,minSize=(200,200))\n",
    "    if(len(faces)>0):\n",
    "        for (x,y,w,h) in faces:\n",
    "            img = cv2.rectangle(img,(x,y),(x+w,y+h),(0,255,0),2)\n",
    "\n",
    "            #roi_face is face which is input to eye classifier\n",
    "            roi_face = gray[y:y+h,x:x+w]\n",
    "            roi_face_clr = img[y:y+h,x:x+w]\n",
    "            eyes = eye_cascade.detectMultiScale(roi_face,1.3,5,minSize=(50,50))\n",
    "\n",
    "            #Examining the length of eyes object for eyes\n",
    "            if(len(eyes)>=2):\n",
    "                #Check if program is running for detection \n",
    "                if(first_read):\n",
    "                    engine.say(\"Eyes Detected\")\n",
    "                    engine.runAndWait()\n",
    "                    cv2.putText(img, \"Eyes detected\", (100,100), cv2.FONT_HERSHEY_PLAIN, 3,(0,255,0),2)\n",
    "                    k = True\n",
    "                else:\n",
    "                    cv2.putText(img, \"Eyes open!\", (100,100), cv2.FONT_HERSHEY_PLAIN, 3,(0,255,0),2)\n",
    "            else:\n",
    "                if(first_read):\n",
    "                    #To ensure if the eyes are present before starting\n",
    "                    cv2.putText(img, \"No eyes detected\", (100,100), cv2.FONT_HERSHEY_PLAIN, 3,(0,0,255),2)\n",
    "                else:\n",
    "                    #This will print on console and restart the algorithm\n",
    "                    #pyautogui.press('down')  \n",
    "                    #pyautogui.hotkey('ctrl', 'enter')\n",
    "                    print(\"Blink detected\")\n",
    "                    count += 1\n",
    "                    #pyautogui.keyDown('down')\n",
    "                    cv2.waitKey(1500)\n",
    "                    #t = True\n",
    "                    if count == 1:\n",
    "                        engine.say(\"One more blink left to run the program\")\n",
    "                    if count == 2:\n",
    "                        print(\"Running the Program\")\n",
    "                        engine.say(\"Blinked Twice\")\n",
    "                        engine.say(\"Running the requested Python file\")\n",
    "                        engine.runAndWait()\n",
    "                        winsound.Beep(frequency_n, duration_n)\n",
    "                        for i in file: # run if there are multiple python files\n",
    "                            # each program will be runned sequentially\n",
    "                            run_pgm(i)\n",
    "                        check = True\n",
    "                    else:\n",
    "                        pass\n",
    "                    first_read=True\n",
    "            \n",
    "    else:\n",
    "        cv2.putText(img,\"No face detected\",(100,100),cv2.FONT_HERSHEY_PLAIN, 3, (0,255,0),2)\n",
    "\n",
    "    #Controlling the algorithm with keys\n",
    "    if check == True:\n",
    "        break\n",
    "    else:\n",
    "        pass\n",
    "    cv2.imshow('img',img)\n",
    "    a = cv2.waitKey(1)\n",
    "    if(a==ord('q') or a == ord('Q')):\n",
    "        break\n",
    "    elif(k and first_read):\n",
    "        #This will start the detection\n",
    "        first_read = False\n",
    "cap.release()\n",
    "cv2.destroyAllWindows()"
   ]
  }
 ],
 "metadata": {
  "kernelspec": {
   "display_name": "Python 3",
   "language": "python",
   "name": "python3"
  },
  "language_info": {
   "codemirror_mode": {
    "name": "ipython",
    "version": 3
   },
   "file_extension": ".py",
   "mimetype": "text/x-python",
   "name": "python",
   "nbconvert_exporter": "python",
   "pygments_lexer": "ipython3",
   "version": "3.7.3"
  }
 },
 "nbformat": 4,
 "nbformat_minor": 2
}
